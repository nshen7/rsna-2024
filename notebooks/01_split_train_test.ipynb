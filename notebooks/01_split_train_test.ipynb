{
 "cells": [
  {
   "cell_type": "markdown",
   "id": "3e419aca-9020-4d89-80bc-4ba59b3b3a9f",
   "metadata": {},
   "source": [
    "# Config"
   ]
  },
  {
   "cell_type": "code",
   "execution_count": 18,
   "id": "eec8b5af-d2f2-41e8-a4e0-e091d3b4df60",
   "metadata": {
    "tags": []
   },
   "outputs": [],
   "source": [
    "import os\n",
    "import pandas as pd\n",
    "import numpy as np\n",
    "import random\n",
    "from sklearn.model_selection import GroupShuffleSplit"
   ]
  },
  {
   "cell_type": "code",
   "execution_count": 19,
   "id": "d184334c-52b0-4bc1-9fb0-4614513a6207",
   "metadata": {
    "tags": []
   },
   "outputs": [],
   "source": [
    "PROJECT_DIR = '/home/jupyter'\n",
    "METADATA_DIR = os.path.join(PROJECT_DIR, 'data', 'processed_metadata')"
   ]
  },
  {
   "cell_type": "markdown",
   "id": "5521dfe4-81f9-469f-8879-fe70fe5672ab",
   "metadata": {},
   "source": [
    "# Reproducibility"
   ]
  },
  {
   "cell_type": "code",
   "execution_count": 20,
   "id": "a2e281c3-909f-4a36-b3b0-edba8c2f3da4",
   "metadata": {
    "tags": []
   },
   "outputs": [],
   "source": [
    "# Ensure deterministic behavior\n",
    "random.seed(hash(\"setting random seeds\") % 2**32 - 1)\n",
    "np.random.seed(hash(\"improves reproducibility\") % 2**32 - 1)"
   ]
  },
  {
   "cell_type": "markdown",
   "id": "a6e09205-bcf6-4d04-9fd2-9511266d1e94",
   "metadata": {},
   "source": [
    "# Split train, validation and test sets for each diagnosed spinal condition"
   ]
  },
  {
   "cell_type": "markdown",
   "id": "e4d27e92-f0be-4228-be3f-a35640363864",
   "metadata": {},
   "source": [
    "<div style=\"font-size: 16px;\">\n",
    "    Note: We split data according to study IDs to avoid data leakage! (i.e., patients in each set does not overlap.)\n",
    "</div>"
   ]
  },
  {
   "cell_type": "code",
   "execution_count": 21,
   "id": "51b5c65b-6d77-4242-b47f-2da9629d1c55",
   "metadata": {
    "tags": []
   },
   "outputs": [],
   "source": [
    "df = pd.read_csv(os.path.join(METADATA_DIR, 'processed_metadata.csv'))\n",
    "condition_types = df['condition'].unique().tolist()"
   ]
  },
  {
   "cell_type": "code",
   "execution_count": 22,
   "id": "2ce65260-1649-4048-90db-37ce3406de7e",
   "metadata": {
    "tags": []
   },
   "outputs": [],
   "source": [
    "def group_split(df, group_col, test_size=0.15, random_state=42):\n",
    "    splitter = GroupShuffleSplit(test_size=test_size, n_splits=1, random_state=random_state)\n",
    "    split = splitter.split(df, groups=df[group_col])\n",
    "    train_idx, test_idx = next(split)\n",
    "    return df.iloc[train_idx], df.iloc[test_idx]"
   ]
  },
  {
   "cell_type": "code",
   "execution_count": 26,
   "id": "ddb1fc06-e9a4-4b48-bb3b-56ab4ebcaa4c",
   "metadata": {
    "tags": []
   },
   "outputs": [
    {
     "name": "stdout",
     "output_type": "stream",
     "text": [
      "Spinal Canal Stenosis :\n",
      "Number of samples in training set: 7045\n",
      "Number of samples in validation set: 1245\n",
      "Number of samples in test set: 1463\n",
      "Left Neural Foraminal Narrowing :\n",
      "Number of samples in training set: 7120\n",
      "Number of samples in validation set: 1260\n",
      "Number of samples in test set: 1480\n",
      "Right Neural Foraminal Narrowing :\n",
      "Number of samples in training set: 7070\n",
      "Number of samples in validation set: 1249\n",
      "Number of samples in test set: 1471\n",
      "Left Subarticular Stenosis :\n",
      "Number of samples in training set: 6939\n",
      "Number of samples in validation set: 1223\n",
      "Number of samples in test set: 1441\n",
      "Right Subarticular Stenosis :\n",
      "Number of samples in training set: 2999\n",
      "Number of samples in validation set: 523\n",
      "Number of samples in test set: 633\n"
     ]
    }
   ],
   "source": [
    "for condition in condition_types:\n",
    "    print(condition, \":\")\n",
    "    # Remove spaces to write into file names\n",
    "    condition = condition.replace(\" \", \"\")\n",
    "    \n",
    "    # Read in the dataset exclusive to the condition\n",
    "    df_condition = pd.read_csv(os.path.join(METADATA_DIR, 'processed_metadata_' + condition + '.csv'))\n",
    "    \n",
    "    # Split into train, validation and test\n",
    "    train_val_df, test_df = group_split(df_condition, 'study_id')\n",
    "    train_df, val_df = group_split(train_val_df, 'study_id')\n",
    "    print(f\"Number of samples in training set: {train_df.shape[0]}\")\n",
    "    print(f\"Number of samples in validation set: {val_df.shape[0]}\")\n",
    "    print(f\"Number of samples in test set: {test_df.shape[0]}\")\n",
    "    \n",
    "    # Write out the splitted subsets\n",
    "    WRITE_DIR = os.path.join(METADATA_DIR, condition)\n",
    "    os.makedirs(WRITE_DIR, exist_ok=True)\n",
    "\n",
    "    train_df.to_csv(os.path.join(WRITE_DIR, 'train.csv'), index=False)\n",
    "    val_df.to_csv  (os.path.join(WRITE_DIR, 'val.csv'),   index=False)\n",
    "    test_df.to_csv (os.path.join(WRITE_DIR, 'test.csv'),  index=False)"
   ]
  }
 ],
 "metadata": {
  "kernelspec": {
   "display_name": "PyTorch 2.0",
   "language": "python",
   "name": "pytorch-2-0"
  },
  "language_info": {
   "codemirror_mode": {
    "name": "ipython",
    "version": 3
   },
   "file_extension": ".py",
   "mimetype": "text/x-python",
   "name": "python",
   "nbconvert_exporter": "python",
   "pygments_lexer": "ipython3",
   "version": "3.10.15"
  }
 },
 "nbformat": 4,
 "nbformat_minor": 5
}
